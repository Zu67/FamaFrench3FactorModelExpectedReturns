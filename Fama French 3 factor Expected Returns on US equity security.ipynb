{
 "cells": [
  {
   "cell_type": "code",
   "execution_count": null,
   "metadata": {},
   "outputs": [],
   "source": [
    "import pandas as pd #data manipulation package to import for analysis\n",
    "import numpy as np #package for multidimensional array computations\n",
    "import matplotlib.pyplot as plt #library for plotting (matlab)\n",
    "import datetime #supplies classes for manipulating date and time\n",
    "pip install getFamaFrenchFactors\n",
    "\n",
    "#the following lines get the last 5 years of monthly stock price data for a given stock (Macy's) and sets it into a dataFrame\n",
    "\n",
    "macyData=DataReader('M','yahoo','2016-07-01',end)['Adj Close'] #scrapes data from yahoo finance\n",
    "macyDataF=macydata.resample('M').last() #takes only last day of the month\n",
    "macyDataF=macydataF.to_frame() #puts it into the data frame\n",
    "macyDataF['Year']=macyDataF.index.year #takes year data\n",
    "macyDataF['Month']=macyDataF.index.month #takes month data\n",
    "macyDataF.rename(columns={'Adj Close':'M'},inplace=True) #sets adjusted close column\n",
    "\n",
    "#the following lines get the past 5 years of data from the fama french library\n",
    "\n",
    "FF3data=gff.famaFrench3Factor(frequency='m') #gets monthly data from the library\n",
    "FF3data=FF3data.tail(60) #takes last 60 entries\n",
    "FF3data['Year']=FF3data['date_ff_factors'].dt.year #sets year column\n",
    "FF3data['Month']=FF3data['date_ff_factors'].dt.month #sets month column\n",
    "\n",
    "#the following lines merge the data into a single table\n",
    "\n",
    "datanow=pd.merge(macyDataF,FF3data,left_on=['Year','Month'],right_on=['Year','Month']) #merges on month and year \n",
    "\n",
    "datanow.sort_values(['date_ff_factors'],axis=0,ascending=False,inplace=True) #sorts by date\n",
    "datanow['rM']=datanow['M']/datanow.M.shift(-1)-1 #dividing by yesterdays (minus 1)'s price\n",
    "\n",
    "#following lines clean up and set together tables\n",
    "datanow.dropna(subset=['rM'],inplace=True)\n",
    "datanow['rMkt']=datanow['Mkt-RF']+datanow['RF']\n",
    "\n",
    "#scatter plot of the market vs the security\n",
    "plt.scatter(datanow['rMkt'],datanow['M'])\n",
    "m, b = np.polyfit(datanow['rMkt'],datanow['rM'],1)\n",
    "plt.plot(datanow['rMkt'],b+m*datanow['rMkt'],'r')\n",
    "\n",
    "import statsmodels.api as sm #imports statistical models for analysis\n",
    "y=datanow['rM']-datanow['RF'] #sets the y variable\n",
    "x=datanow['Mkt-RF'] #sets x variable\n",
    "x=sm.add_constant(x)\n",
    "\n",
    "#creates model parameters\n",
    "mod=sm.OLS(y,x)\n",
    "res=mod.fit()\n",
    "res.summary()\n",
    "\n",
    "\n",
    "\n"
   ]
  }
 ],
 "metadata": {
  "kernelspec": {
   "display_name": "Python 3",
   "language": "python",
   "name": "python3"
  },
  "language_info": {
   "codemirror_mode": {
    "name": "ipython",
    "version": 3
   },
   "file_extension": ".py",
   "mimetype": "text/x-python",
   "name": "python",
   "nbconvert_exporter": "python",
   "pygments_lexer": "ipython3",
   "version": "3.8.5"
  }
 },
 "nbformat": 4,
 "nbformat_minor": 4
}
